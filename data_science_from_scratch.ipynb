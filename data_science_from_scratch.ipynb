{
  "nbformat": 4,
  "nbformat_minor": 0,
  "metadata": {
    "colab": {
      "name": "data_science_from_scratch.ipynb",
      "provenance": []
    },
    "kernelspec": {
      "name": "python3",
      "display_name": "Python 3"
    },
    "language_info": {
      "name": "python"
    }
  },
  "cells": [
    {
      "cell_type": "code",
      "metadata": {
        "id": "cYMRQPbIkktX"
      },
      "source": [
        "users = [ \n",
        "{ \"id\": 0, \"name\": \"Hero\" },{ \"id\": 1, \"name\": \"Dunn\" }, \n",
        "{ \"id\": 2, \"name\": \"Sue\" }, \n",
        "{ \"id\": 3, \"name\": \"Chi\" }, \n",
        "{ \"id\": 4, \"name\": \"Thor\" }, \n",
        "{ \"id\": 5, \"name\": \"Clive\" }, \n",
        "{ \"id\": 6, \"name\": \"Hicks\" }, \n",
        "{ \"id\": 7, \"name\": \"Devin\" }, \n",
        "{ \"id\": 8, \"name\": \"Kate\" }, \n",
        "{ \"id\": 9, \"name\": \"Klein\" } \n",
        "]"
      ],
      "execution_count": null,
      "outputs": []
    },
    {
      "cell_type": "code",
      "metadata": {
        "colab": {
          "base_uri": "https://localhost:8080/"
        },
        "id": "wGVMskF6xcUv",
        "outputId": "97b21520-86e0-4e8d-f709-739ba34cdd87"
      },
      "source": [
        "# another way of populate the users dict above\n",
        "names = [\"Hero\",\"Dunn\",\"Sue\",\"Chi\",\"Thor\",\"Clive\",\"Hicks\",\"Devin\",\"Kate\",\"Klein\"]\n",
        "\n",
        "users = [{\"id\": id, \"name\": name,\"friend\":[]} for id, name in enumerate(names)]\n",
        "users"
      ],
      "execution_count": null,
      "outputs": [
        {
          "output_type": "execute_result",
          "data": {
            "text/plain": [
              "[{'friend': [], 'id': 0, 'name': 'Hero'},\n",
              " {'friend': [], 'id': 1, 'name': 'Dunn'},\n",
              " {'friend': [], 'id': 2, 'name': 'Sue'},\n",
              " {'friend': [], 'id': 3, 'name': 'Chi'},\n",
              " {'friend': [], 'id': 4, 'name': 'Thor'},\n",
              " {'friend': [], 'id': 5, 'name': 'Clive'},\n",
              " {'friend': [], 'id': 6, 'name': 'Hicks'},\n",
              " {'friend': [], 'id': 7, 'name': 'Devin'},\n",
              " {'friend': [], 'id': 8, 'name': 'Kate'},\n",
              " {'friend': [], 'id': 9, 'name': 'Klein'}]"
            ]
          },
          "metadata": {
            "tags": []
          },
          "execution_count": 3
        }
      ]
    },
    {
      "cell_type": "code",
      "metadata": {
        "id": "vpZishtzx_H7"
      },
      "source": [
        "friendships = [(0, 1), (0, 2), (1, 2), (1, 3), (2, 3), (3, 4),\n",
        "               (4, 5), (5, 6), (5, 7), (6, 8), (7, 8), (8, 9)]"
      ],
      "execution_count": null,
      "outputs": []
    },
    {
      "cell_type": "code",
      "metadata": {
        "colab": {
          "base_uri": "https://localhost:8080/"
        },
        "id": "rFcpQTETyYRE",
        "outputId": "86d2449c-2984-4bdf-fa61-1f44a15cd416"
      },
      "source": [
        "for i,j in friendships:\n",
        "  users[i]['friend'].append(j)\n",
        "  users[j]['friend'].append(i)\n",
        "users"
      ],
      "execution_count": null,
      "outputs": [
        {
          "output_type": "execute_result",
          "data": {
            "text/plain": [
              "[{'friend': [1, 2], 'id': 0, 'name': 'Hero'},\n",
              " {'friend': [0, 2, 3], 'id': 1, 'name': 'Dunn'},\n",
              " {'friend': [0, 1, 3], 'id': 2, 'name': 'Sue'},\n",
              " {'friend': [1, 2, 4], 'id': 3, 'name': 'Chi'},\n",
              " {'friend': [3, 5], 'id': 4, 'name': 'Thor'},\n",
              " {'friend': [4, 6, 7], 'id': 5, 'name': 'Clive'},\n",
              " {'friend': [5, 8], 'id': 6, 'name': 'Hicks'},\n",
              " {'friend': [5, 8], 'id': 7, 'name': 'Devin'},\n",
              " {'friend': [6, 7, 9], 'id': 8, 'name': 'Kate'},\n",
              " {'friend': [8], 'id': 9, 'name': 'Klein'}]"
            ]
          },
          "metadata": {
            "tags": []
          },
          "execution_count": 5
        }
      ]
    },
    {
      "cell_type": "code",
      "metadata": {
        "colab": {
          "base_uri": "https://localhost:8080/"
        },
        "id": "l54N3lDazOed",
        "outputId": "162eba85-7be8-4b36-92f6-f3e3ad7c4053"
      },
      "source": [
        "# the average friend per users\n",
        "def number_of_friends(user):\n",
        "  return len(user['friend'])\n",
        "\n",
        "average_friend_per_user = sum([number_of_friends(user) for user in users]) / len(users)\n",
        "average_friend_per_user"
      ],
      "execution_count": null,
      "outputs": [
        {
          "output_type": "execute_result",
          "data": {
            "text/plain": [
              "2.4"
            ]
          },
          "metadata": {
            "tags": []
          },
          "execution_count": 6
        }
      ]
    },
    {
      "cell_type": "code",
      "metadata": {
        "colab": {
          "base_uri": "https://localhost:8080/"
        },
        "id": "2NkdW7uk09L6",
        "outputId": "1103681c-fe54-435e-f522-ebb7299b106e"
      },
      "source": [
        "# sort the id by number of friend (id,num_of_friends)\n",
        "number_of_friends_by_id = [(user['id'],number_of_friends(user)) for user in users]\n",
        "sorted(number_of_friends_by_id,key=lambda t:t[1],reverse=True)"
      ],
      "execution_count": null,
      "outputs": [
        {
          "output_type": "execute_result",
          "data": {
            "text/plain": [
              "[(1, 3),\n",
              " (2, 3),\n",
              " (3, 3),\n",
              " (5, 3),\n",
              " (8, 3),\n",
              " (0, 2),\n",
              " (4, 2),\n",
              " (6, 2),\n",
              " (7, 2),\n",
              " (9, 1)]"
            ]
          },
          "metadata": {
            "tags": []
          },
          "execution_count": 7
        }
      ]
    },
    {
      "cell_type": "code",
      "metadata": {
        "colab": {
          "base_uri": "https://localhost:8080/"
        },
        "id": "x07ksIzF6Q3e",
        "outputId": "19249202-7ed9-4259-8ef8-6d9e589f9288"
      },
      "source": [
        "# find friend of friend\n",
        "# test1\n",
        "def friend_of_friend(user):\n",
        "  return [x\n",
        "          for friend_id in users[user]['friend']\n",
        "          for x in users[friend_id]['friend']\n",
        "          if x!=user and x not in users[user]['friend']]\n",
        "\n",
        "#def not\n",
        "from collections import Counter\n",
        "Counter(friend_of_friend(3))"
      ],
      "execution_count": null,
      "outputs": [
        {
          "output_type": "execute_result",
          "data": {
            "text/plain": [
              "Counter({0: 2, 5: 1})"
            ]
          },
          "metadata": {
            "tags": []
          },
          "execution_count": 8
        }
      ]
    },
    {
      "cell_type": "code",
      "metadata": {
        "colab": {
          "base_uri": "https://localhost:8080/"
        },
        "id": "_lFnWS1y0gRp",
        "outputId": "3c5b9ca8-f60a-4315-9677-601371749727"
      },
      "source": [
        "# test 2\n",
        "def friend_of_friend2(user): # users[3]\n",
        "  return Counter(friend_of_friend_id\n",
        "          for friend_id in user['friend']\n",
        "          for friend_of_friend_id in users[friend_id]['friend']\n",
        "          if friend_of_friend_id != user['id']\n",
        "          and friend_of_friend_id not in user['friend'])\n",
        "friend_of_friend2(users[3])"
      ],
      "execution_count": null,
      "outputs": [
        {
          "output_type": "execute_result",
          "data": {
            "text/plain": [
              "Counter({0: 2, 5: 1})"
            ]
          },
          "metadata": {
            "tags": []
          },
          "execution_count": 9
        }
      ]
    },
    {
      "cell_type": "code",
      "metadata": {
        "id": "bvBoTaNx2Bjl"
      },
      "source": [
        "interests = [\n",
        "    (0, \"Hadoop\"), (0, \"Big Data\"), (0, \"HBase\"), (0, \"Java\"),\n",
        "    (0, \"Spark\"), (0, \"Storm\"), (0, \"Cassandra\"),\n",
        "    (1, \"NoSQL\"), (1, \"MongoDB\"), (1, \"Cassandra\"), (1, \"HBase\"),\n",
        "    (1, \"Postgres\"), (2, \"Python\"), (2, \"scikit-learn\"), (2, \"scipy\"),\n",
        "    (2, \"numpy\"), (2, \"statsmodels\"), (2, \"pandas\"), (3, \"R\"), (3, \"Python\"),\n",
        "    (3, \"statistics\"), (3, \"regression\"), (3, \"probability\"),\n",
        "    (4, \"machine learning\"), (4, \"regression\"), (4, \"decision trees\"),\n",
        "    (4, \"libsvm\"), (5, \"Python\"), (5, \"R\"), (5, \"Java\"), (5, \"C++\"),\n",
        "    (5, \"Haskell\"), (5, \"programming languages\"), (6, \"statistics\"),\n",
        "    (6, \"probability\"), (6, \"mathematics\"), (6, \"theory\"),\n",
        "    (7, \"machine learning\"), (7, \"scikit-learn\"), (7, \"Mahout\"),\n",
        "    (7, \"neural networks\"), (8, \"neural networks\"), (8, \"deep learning\"),\n",
        "    (8, \"Big Data\"), (8, \"artificial intelligence\"), (9, \"Hadoop\"),\n",
        "    (9, \"Java\"), (9, \"MapReduce\"), (9, \"Big Data\")\n",
        "]"
      ],
      "execution_count": null,
      "outputs": []
    },
    {
      "cell_type": "code",
      "metadata": {
        "colab": {
          "base_uri": "https://localhost:8080/"
        },
        "id": "83r2sErgwcMb",
        "outputId": "967fbf70-d09e-47f3-9adc-83e592e4f41e"
      },
      "source": [
        "# find people with common interest\n",
        "def common_interest(common_interest):\n",
        "  return [user_id\n",
        "          for user_id, interest in interests\n",
        "          if interest == common_interest]\n",
        "common_interest(\"Java\")\n"
      ],
      "execution_count": null,
      "outputs": [
        {
          "output_type": "execute_result",
          "data": {
            "text/plain": [
              "[0, 5, 9]"
            ]
          },
          "metadata": {
            "tags": []
          },
          "execution_count": 11
        }
      ]
    },
    {
      "cell_type": "code",
      "metadata": {
        "id": "tUAxnHfK4TaG"
      },
      "source": [
        "from collections import defaultdict\n",
        "user_ids_by_interest = defaultdict(list)\n",
        "\n",
        "for user_id, interest in interests:\n",
        "  user_ids_by_interest[interest].append(user_id)\n",
        "\n",
        "interest_by_user_ids = defaultdict(list)\n",
        "\n",
        "for user_id,interest in interests:\n",
        "  interest_by_user_ids[user_id].append(interest)"
      ],
      "execution_count": null,
      "outputs": []
    },
    {
      "cell_type": "code",
      "metadata": {
        "colab": {
          "base_uri": "https://localhost:8080/"
        },
        "id": "ek3D-fH7-GwA",
        "outputId": "71da8353-7284-4538-c16b-e5c868cf2efe"
      },
      "source": [
        "def most_common_interests_with(user): # users[0]\n",
        "  return Counter(id for interest in interest_by_user_ids[user['id']]\n",
        "                 for id in user_ids_by_interest[interest]\n",
        "                 if user['id'] != id)\n",
        "most_common_interests_with(users[3])"
      ],
      "execution_count": null,
      "outputs": [
        {
          "output_type": "execute_result",
          "data": {
            "text/plain": [
              "Counter({2: 1, 4: 1, 5: 2, 6: 2})"
            ]
          },
          "metadata": {
            "tags": []
          },
          "execution_count": 13
        }
      ]
    },
    {
      "cell_type": "code",
      "metadata": {
        "id": "veJSnkyjH1Lf"
      },
      "source": [
        "salaries_and_tenures = [\n",
        "    (83000, 8.7), (88000, 8.1),\n",
        "    (48000, 0.7), (76000, 6),\n",
        "    (69000, 6.5), (76000, 7.5),\n",
        "    (60000, 2.5), (83000, 10),\n",
        "    (48000, 1.9), (63000, 4.2)]"
      ],
      "execution_count": null,
      "outputs": []
    },
    {
      "cell_type": "code",
      "metadata": {
        "colab": {
          "base_uri": "https://localhost:8080/"
        },
        "id": "25pctYZhPtQV",
        "outputId": "9a8dd7ec-ff30-44e8-a88e-1cb3b67ff938"
      },
      "source": [
        "def tenure_bucket(tenure):\n",
        "  if tenure < 2:\n",
        "    return \"less than two\"\n",
        "  elif tenure < 5:\n",
        "    return \"between two and five\"\n",
        "  else:\n",
        "    return \"more than five\"\n",
        "\n",
        "salary_by_tenure = defaultdict(list)\n",
        "\n",
        "for salary,tenure in salaries_and_tenures:\n",
        "  salary_by_tenure[tenure_bucket(tenure)].append(salary)\n",
        "\n",
        "average_salary_by_tenure = {\n",
        "    tenure: sum(salary)/len(salary)\n",
        "    for tenure,salary in salary_by_tenure.items() # without items, only keys will generate\n",
        "}\n",
        "average_salary_by_tenure"
      ],
      "execution_count": null,
      "outputs": [
        {
          "output_type": "execute_result",
          "data": {
            "text/plain": [
              "{'between two and five': 61500.0,\n",
              " 'less than two': 48000.0,\n",
              " 'more than five': 79166.66666666667}"
            ]
          },
          "metadata": {
            "tags": []
          },
          "execution_count": 38
        }
      ]
    },
    {
      "cell_type": "code",
      "metadata": {
        "colab": {
          "base_uri": "https://localhost:8080/",
          "height": 279
        },
        "id": "rxdDG2X-113A",
        "outputId": "00b94f00-b49a-4959-b960-6b44a18d7f65"
      },
      "source": [
        "# plot salary vs. experience\n",
        "import matplotlib.pyplot as plt\n",
        "plt.plot([s[0] for s in salaries_and_tenures],\n",
        "         [s[1] for s in salaries_and_tenures],\n",
        "         'b+') # --- the type of marker appeared on the graph\n",
        "plt.ylabel('salary')\n",
        "plt.xlabel('years of experience')\n",
        "plt.show()"
      ],
      "execution_count": null,
      "outputs": [
        {
          "output_type": "display_data",
          "data": {
            "image/png": "[encoded data removed]",
            "text/plain": [
              "<Figure size 432x288 with 1 Axes>"
            ]
          },
          "metadata": {
            "tags": [],
            "needs_background": "light"
          }
        }
      ]
    },
    {
      "cell_type": "code",
      "metadata": {
        "colab": {
          "base_uri": "https://localhost:8080/"
        },
        "id": "nKnSX9Ir2o_Z",
        "outputId": "fbec6c03-0fe9-4c4d-e61d-41e772cb24c3"
      },
      "source": [
        "import this"
      ],
      "execution_count": null,
      "outputs": [
        {
          "output_type": "stream",
          "text": [
            "The Zen of Python, by Tim Peters\n",
            "\n",
            "Beautiful is better than ugly.\n",
            "Explicit is better than implicit.\n",
            "Simple is better than complex.\n",
            "Complex is better than complicated.\n",
            "Flat is better than nested.\n",
            "Sparse is better than dense.\n",
            "Readability counts.\n",
            "Special cases aren't special enough to break the rules.\n",
            "Although practicality beats purity.\n",
            "Errors should never pass silently.\n",
            "Unless explicitly silenced.\n",
            "In the face of ambiguity, refuse the temptation to guess.\n",
            "There should be one-- and preferably only one --obvious way to do it.\n",
            "Although that way may not be obvious at first unless you're Dutch.\n",
            "Now is better than never.\n",
            "Although never is often better than *right* now.\n",
            "If the implementation is hard to explain, it's a bad idea.\n",
            "If the implementation is easy to explain, it may be a good idea.\n",
            "Namespaces are one honking great idea -- let's do more of those!\n"
          ],
          "name": "stdout"
        }
      ]
    },
    {
      "cell_type": "code",
      "metadata": {
        "id": "XJXS2AmvAP-7",
        "colab": {
          "base_uri": "https://localhost:8080/",
          "height": 36
        },
        "outputId": "64850aea-818e-4872-bcb9-eebf58240efb"
      },
      "source": [
        ""
      ],
      "execution_count": null,
      "outputs": [
        {
          "output_type": "execute_result",
          "data": {
            "application/vnd.google.colaboratory.intrinsic+json": {
              "type": "string"
            },
            "text/plain": [
              "'df'"
            ]
          },
          "metadata": {
            "tags": []
          },
          "execution_count": 1
        }
      ]
    },
    {
      "cell_type": "code",
      "metadata": {
        "id": "-VUzumtXAbmn"
      },
      "source": [
        ""
      ],
      "execution_count": null,
      "outputs": []
    }
  ]
}