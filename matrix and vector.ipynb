{
 "cells": [
  {
   "cell_type": "code",
   "execution_count": 1,
   "id": "e42966c2",
   "metadata": {},
   "outputs": [],
   "source": [
    "# ---------------------\n",
    "# Test the vector methods\n",
    "# ---------------------\n",
    "\n",
    "from vector import *\n",
    "v = [1,2,3]\n",
    "w = [4,5,6]\n",
    "\n",
    "assert vector_add(v,w) == [5, 7, 9]\n",
    "assert vector_minus(v,w) == [-3, -3, -3]\n",
    "assert vector_sum([v,w]) == [5, 7, 9]\n",
    "assert sum_of_squares(v) == 14\n",
    "assert dot(v,w) == 32\n",
    "assert vector_mean([v,w]) == [2.5, 3.5, 4.5]\n",
    "assert magnitude(v) == 3.7416573867739413\n",
    "assert squared_distance(v,w) == 27\n",
    "assert distance(v,w) == 5.196152422706632"
   ]
  },
  {
   "cell_type": "code",
   "execution_count": 11,
   "id": "99243857",
   "metadata": {},
   "outputs": [],
   "source": [
    "# ---------------------\n",
    "# Test the matrix methods\n",
    "# ---------------------\n",
    "from matrix import *\n",
    "\n",
    "A = [[1,2,3],\n",
    "     [4,5,6]]\n",
    "B = [[1,2],\n",
    "     [3,4],\n",
    "     [5,6]]\n",
    "\n",
    "assert cols(A) == 3\n",
    "assert identity(3) == [[1, 0, 0], [0, 1, 0], [0, 0, 1]]\n",
    "assert matrix_multiply(A,B)==[[22, 28], [49, 64]]"
   ]
  }
 ],
 "metadata": {
  "kernelspec": {
   "display_name": "Python 3",
   "language": "python",
   "name": "python3"
  },
  "language_info": {
   "codemirror_mode": {
    "name": "ipython",
    "version": 3
   },
   "file_extension": ".py",
   "mimetype": "text/x-python",
   "name": "python",
   "nbconvert_exporter": "python",
   "pygments_lexer": "ipython3",
   "version": "3.8.2"
  }
 },
 "nbformat": 4,
 "nbformat_minor": 5
}
