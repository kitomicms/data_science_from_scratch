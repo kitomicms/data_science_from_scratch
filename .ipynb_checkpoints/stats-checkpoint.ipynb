{
 "cells": [
  {
   "cell_type": "code",
   "execution_count": 3,
   "id": "07106655",
   "metadata": {},
   "outputs": [],
   "source": [
    "from stats import *\n",
    "import random\n",
    "\n",
    "def approx(a, b, epsilon=1e-6):\n",
    "    return abs(a-b) < epsilon\n",
    "\n",
    "assert median([1,2,3,4,5,6,7,8,954,10]) == 5.5\n",
    "assert median([1,2,3,4,5,6,7,8,954]) == 5\n",
    "assert median([1,2,999]) == 2\n",
    "assert median([1,999]) == 500\n",
    "\n",
    "assert mean([1,2,3,4,5,6,7,8,954,10]) == 100.0\n",
    "\n",
    "assert approx(standard_deviation([1,2]), 0.7071068)\n",
    "assert approx(standard_deviation([1,2,3,4,5,6,7]), 2.160247)\n",
    "assert approx(\n",
    "    standard_deviation([random.gauss(0,1) for _ in range(1000)]), 1.0,\n",
    "    epsilon=0.3)"
   ]
  },
  {
   "cell_type": "code",
   "execution_count": null,
   "id": "49e60330",
   "metadata": {},
   "outputs": [],
   "source": [
    "def test_find_bin():\n",
    "\n",
    "    # one big bin for all real numbers\n",
    "    assert find_bin(123, []) == 0\n",
    "\n",
    "    # divide into + and -\n",
    "    assert find_bin(123, [0]) == 1\n",
    "    assert find_bin(0.0, [0]) == 1\n",
    "    assert find_bin(0, [0]) == 1\n",
    "    assert find_bin(0.00001, [0]) == 1\n",
    "    assert find_bin(-0.00001, [0]) == 0\n",
    "    assert find_bin(-1, [0]) == 0\n",
    "    assert find_bin(-123, [0]) == 0\n",
    "\n",
    "    deciles = list(range(10,100,10))\n",
    "    assert find_bin(5, deciles) == 0\n",
    "    assert find_bin(15, deciles) == 1\n",
    "    assert find_bin(95, deciles) == 9\n",
    "    assert find_bin(105, deciles) == 9\n",
    "\n",
    "\n",
    "def test_hist():\n",
    "    deciles = list(range(10,100,10))\n",
    "    grades = [75,87,88,92,93,84,96,99,79,100,98]\n",
    "    h = hist(grades, deciles)\n",
    "    assert h[0] == 0\n",
    "    assert h[1] == 0\n",
    "    assert h[7] == 2\n",
    "    assert h[8] == 3\n",
    "    assert h[9] == 6"
   ]
  }
 ],
 "metadata": {
  "kernelspec": {
   "display_name": "Python 3",
   "language": "python",
   "name": "python3"
  },
  "language_info": {
   "codemirror_mode": {
    "name": "ipython",
    "version": 3
   },
   "file_extension": ".py",
   "mimetype": "text/x-python",
   "name": "python",
   "nbconvert_exporter": "python",
   "pygments_lexer": "ipython3",
   "version": "3.8.2"
  }
 },
 "nbformat": 4,
 "nbformat_minor": 5
}
